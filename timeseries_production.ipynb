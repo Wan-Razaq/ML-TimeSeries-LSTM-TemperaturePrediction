{
 "cells": [
  {
   "cell_type": "code",
   "execution_count": 12,
   "id": "1c16e375",
   "metadata": {},
   "outputs": [],
   "source": [
    "import numpy as np\n",
    "import pandas as pd\n",
    "import matplotlib.pyplot as plt\n",
    "import tensorflow as tf\n",
    "from sklearn.model_selection import train_test_split\n"
   ]
  },
  {
   "cell_type": "code",
   "execution_count": 13,
   "id": "1795409d",
   "metadata": {},
   "outputs": [
    {
     "data": {
      "text/html": [
       "<div>\n",
       "<style scoped>\n",
       "    .dataframe tbody tr th:only-of-type {\n",
       "        vertical-align: middle;\n",
       "    }\n",
       "\n",
       "    .dataframe tbody tr th {\n",
       "        vertical-align: top;\n",
       "    }\n",
       "\n",
       "    .dataframe thead th {\n",
       "        text-align: right;\n",
       "    }\n",
       "</style>\n",
       "<table border=\"1\" class=\"dataframe\">\n",
       "  <thead>\n",
       "    <tr style=\"text-align: right;\">\n",
       "      <th></th>\n",
       "      <th>key</th>\n",
       "      <th>time</th>\n",
       "      <th>Temperature</th>\n",
       "    </tr>\n",
       "  </thead>\n",
       "  <tbody>\n",
       "    <tr>\n",
       "      <th>0</th>\n",
       "      <td>1</td>\n",
       "      <td>2019-05-03 11:16:18</td>\n",
       "      <td>1571.0</td>\n",
       "    </tr>\n",
       "    <tr>\n",
       "      <th>1</th>\n",
       "      <td>1</td>\n",
       "      <td>2019-05-03 11:25:53</td>\n",
       "      <td>1604.0</td>\n",
       "    </tr>\n",
       "    <tr>\n",
       "      <th>2</th>\n",
       "      <td>1</td>\n",
       "      <td>2019-05-03 11:29:11</td>\n",
       "      <td>1618.0</td>\n",
       "    </tr>\n",
       "    <tr>\n",
       "      <th>3</th>\n",
       "      <td>1</td>\n",
       "      <td>2019-05-03 11:30:01</td>\n",
       "      <td>1601.0</td>\n",
       "    </tr>\n",
       "    <tr>\n",
       "      <th>4</th>\n",
       "      <td>1</td>\n",
       "      <td>2019-05-03 11:30:39</td>\n",
       "      <td>1613.0</td>\n",
       "    </tr>\n",
       "  </tbody>\n",
       "</table>\n",
       "</div>"
      ],
      "text/plain": [
       "   key                 time  Temperature\n",
       "0    1  2019-05-03 11:16:18       1571.0\n",
       "1    1  2019-05-03 11:25:53       1604.0\n",
       "2    1  2019-05-03 11:29:11       1618.0\n",
       "3    1  2019-05-03 11:30:01       1601.0\n",
       "4    1  2019-05-03 11:30:39       1613.0"
      ]
     },
     "execution_count": 13,
     "metadata": {},
     "output_type": "execute_result"
    }
   ],
   "source": [
    "data_train = pd.read_csv(\"/Users/wbm/Documents/Dicoding ML/Time-Series/data_temp.csv\")\n",
    "data_train.head()"
   ]
  },
  {
   "cell_type": "code",
   "execution_count": 14,
   "id": "16d290e6",
   "metadata": {},
   "outputs": [
    {
     "data": {
      "text/html": [
       "<div>\n",
       "<style scoped>\n",
       "    .dataframe tbody tr th:only-of-type {\n",
       "        vertical-align: middle;\n",
       "    }\n",
       "\n",
       "    .dataframe tbody tr th {\n",
       "        vertical-align: top;\n",
       "    }\n",
       "\n",
       "    .dataframe thead th {\n",
       "        text-align: right;\n",
       "    }\n",
       "</style>\n",
       "<table border=\"1\" class=\"dataframe\">\n",
       "  <thead>\n",
       "    <tr style=\"text-align: right;\">\n",
       "      <th></th>\n",
       "      <th>time</th>\n",
       "      <th>Temperature</th>\n",
       "    </tr>\n",
       "  </thead>\n",
       "  <tbody>\n",
       "    <tr>\n",
       "      <th>0</th>\n",
       "      <td>2019-05-03 11:16:18</td>\n",
       "      <td>1571.0</td>\n",
       "    </tr>\n",
       "    <tr>\n",
       "      <th>1</th>\n",
       "      <td>2019-05-03 11:25:53</td>\n",
       "      <td>1604.0</td>\n",
       "    </tr>\n",
       "    <tr>\n",
       "      <th>2</th>\n",
       "      <td>2019-05-03 11:29:11</td>\n",
       "      <td>1618.0</td>\n",
       "    </tr>\n",
       "    <tr>\n",
       "      <th>3</th>\n",
       "      <td>2019-05-03 11:30:01</td>\n",
       "      <td>1601.0</td>\n",
       "    </tr>\n",
       "    <tr>\n",
       "      <th>4</th>\n",
       "      <td>2019-05-03 11:30:39</td>\n",
       "      <td>1613.0</td>\n",
       "    </tr>\n",
       "  </tbody>\n",
       "</table>\n",
       "</div>"
      ],
      "text/plain": [
       "                  time  Temperature\n",
       "0  2019-05-03 11:16:18       1571.0\n",
       "1  2019-05-03 11:25:53       1604.0\n",
       "2  2019-05-03 11:29:11       1618.0\n",
       "3  2019-05-03 11:30:01       1601.0\n",
       "4  2019-05-03 11:30:39       1613.0"
      ]
     },
     "execution_count": 14,
     "metadata": {},
     "output_type": "execute_result"
    }
   ],
   "source": [
    "data_train = data_train[[\"time\", \"Temperature\"]]\n",
    "data_train.head()"
   ]
  },
  {
   "cell_type": "code",
   "execution_count": 15,
   "id": "174a4f54",
   "metadata": {},
   "outputs": [
    {
     "data": {
      "text/plain": [
       "time              0\n",
       "Temperature    2901\n",
       "dtype: int64"
      ]
     },
     "execution_count": 15,
     "metadata": {},
     "output_type": "execute_result"
    }
   ],
   "source": [
    "# check whether there are null value\n",
    "data_train.isnull().sum()"
   ]
  },
  {
   "cell_type": "code",
   "execution_count": 16,
   "id": "07213369",
   "metadata": {},
   "outputs": [
    {
     "data": {
      "text/plain": [
       "time           13006\n",
       "Temperature    13006\n",
       "dtype: int64"
      ]
     },
     "execution_count": 16,
     "metadata": {},
     "output_type": "execute_result"
    }
   ],
   "source": [
    "# Drop the missing value\n",
    "data_train = data_train.dropna()\n",
    "data_train.count()"
   ]
  },
  {
   "cell_type": "code",
   "execution_count": 17,
   "id": "b80fed65",
   "metadata": {},
   "outputs": [
    {
     "data": {
      "text/plain": [
       "Text(0.5, 1.0, 'Furnace Temperature')"
      ]
     },
     "execution_count": 17,
     "metadata": {},
     "output_type": "execute_result"
    },
    {
     "data": {
      "image/png": "[encoded data removed]",
      "text/plain": [
       "<Figure size 1500x500 with 1 Axes>"
      ]
     },
     "metadata": {},
     "output_type": "display_data"
    }
   ],
   "source": [
    "# Plot the dataset\n",
    "time = data_train['time'].values\n",
    "temperature = data_train['Temperature'].values\n",
    "\n",
    "plt.figure(figsize=(15,5))\n",
    "plt.plot(time, temperature)\n",
    "plt.title('Furnace Temperature', fontsize = 20)\n"
   ]
  },
  {
   "cell_type": "code",
   "execution_count": 18,
   "id": "d64c65bd",
   "metadata": {},
   "outputs": [],
   "source": [
    "# Function for converting our input data to the format that can be ingest by the model.\n",
    "def windowed_dataset(series, window_size, batch_size, shuffle_buffer):\n",
    "    series = tf.expand_dims(series, axis=-1)\n",
    "    ds = tf.data.Dataset.from_tensor_slices(series)\n",
    "    ds = ds.window(window_size + 1, shift=1, drop_remainder=True)  # Corrected 'drop_remainder'\n",
    "    ds = ds.flat_map(lambda w: w.batch(window_size + 1))\n",
    "    ds = ds.shuffle(shuffle_buffer)\n",
    "    ds = ds.map(lambda w: (w[:-1], w[-1:]))\n",
    "    return ds.batch(batch_size).prefetch(1)\n",
    "\n"
   ]
  },
  {
   "cell_type": "code",
   "execution_count": 19,
   "id": "5f03767b",
   "metadata": {},
   "outputs": [
    {
     "name": "stdout",
     "output_type": "stream",
     "text": [
      "MAE target: 51.400000000000006\n"
     ]
    }
   ],
   "source": [
    "# Calculate 10% of the temperature scale for MAE target\n",
    "temperature_range = temperature.max() - temperature.min()\n",
    "mae_target = 0.1 * temperature_range\n",
    "print(f\"MAE target: {mae_target}\")"
   ]
  },
  {
   "cell_type": "code",
   "execution_count": 20,
   "id": "e270a6a3",
   "metadata": {},
   "outputs": [],
   "source": [
    "# Split the data into training and validation dataset\n",
    "time_train, time_valid, temp_train, temp_valid = train_test_split(time, temperature, test_size=0.2, random_state=42)"
   ]
  },
  {
   "cell_type": "code",
   "execution_count": 21,
   "id": "afc10713",
   "metadata": {},
   "outputs": [],
   "source": [
    "# Create windowed dataset for training\n",
    "train_set = windowed_dataset(temp_train, window_size= 60, batch_size=100, shuffle_buffer=1000)\n",
    "\n",
    "# Create windowed dataset for validation\n",
    "valid_set = windowed_dataset(temp_valid, window_size= 60, batch_size=100, shuffle_buffer=1000)"
   ]
  },
  {
   "cell_type": "code",
   "execution_count": 22,
   "id": "8714638a",
   "metadata": {},
   "outputs": [],
   "source": [
    "# Model Training\n",
    "\n",
    "model = tf.keras.models.Sequential([\n",
    "    tf.keras.layers.LSTM(60, return_sequences= True),\n",
    "    tf.keras.layers.LSTM(60),\n",
    "    tf.keras.layers.Dense(30, activation=\"relu\"),\n",
    "    tf.keras.layers.Dense(10, activation=\"relu\"),\n",
    "    tf.keras.layers.Dense(1),\n",
    "])"
   ]
  },
  {
   "cell_type": "code",
   "execution_count": 23,
   "id": "3be35884",
   "metadata": {},
   "outputs": [
    {
     "name": "stdout",
     "output_type": "stream",
     "text": [
      "Epoch 1/100\n",
      "104/104 [==============================] - 12s 85ms/step - loss: 1589.9169 - mae: 1590.4169 - val_loss: 1588.8799 - val_mae: 1589.3799\n",
      "Epoch 2/100\n",
      "104/104 [==============================] - 9s 81ms/step - loss: 1585.3831 - mae: 1585.8831 - val_loss: 1579.2697 - val_mae: 1579.7697\n",
      "Epoch 3/100\n",
      "104/104 [==============================] - 9s 81ms/step - loss: 1524.3132 - mae: 1524.8132 - val_loss: 1283.6300 - val_mae: 1284.1300\n",
      "Epoch 4/100\n",
      "104/104 [==============================] - 8s 76ms/step - loss: 250.7930 - mae: 251.2901 - val_loss: 13.9179 - val_mae: 14.4024\n",
      "Epoch 5/100\n",
      "104/104 [==============================] - 8s 71ms/step - loss: 14.8106 - mae: 15.3021 - val_loss: 14.0864 - val_mae: 14.5749\n",
      "Epoch 6/100\n",
      "104/104 [==============================] - 8s 71ms/step - loss: 14.7332 - mae: 15.2243 - val_loss: 15.3965 - val_mae: 15.8907\n",
      "Epoch 7/100\n",
      "104/104 [==============================] - 8s 71ms/step - loss: 14.5592 - mae: 15.0498 - val_loss: 14.1178 - val_mae: 14.6051\n",
      "Epoch 8/100\n",
      "104/104 [==============================] - 8s 72ms/step - loss: 14.7063 - mae: 15.1979 - val_loss: 13.9838 - val_mae: 14.4768\n",
      "Epoch 9/100\n",
      "104/104 [==============================] - 8s 72ms/step - loss: 14.9803 - mae: 15.4724 - val_loss: 14.0594 - val_mae: 14.5501\n",
      "Epoch 10/100\n",
      "104/104 [==============================] - 8s 71ms/step - loss: 14.7399 - mae: 15.2311 - val_loss: 15.0768 - val_mae: 15.5683\n",
      "Epoch 11/100\n",
      "104/104 [==============================] - 8s 71ms/step - loss: 14.6446 - mae: 15.1365 - val_loss: 14.2232 - val_mae: 14.7164\n",
      "Epoch 12/100\n",
      "104/104 [==============================] - 7s 70ms/step - loss: 14.6017 - mae: 15.0932 - val_loss: 15.2537 - val_mae: 15.7492\n",
      "Epoch 13/100\n",
      "104/104 [==============================] - 7s 70ms/step - loss: 14.3895 - mae: 14.8797 - val_loss: 13.8200 - val_mae: 14.3115\n",
      "Epoch 14/100\n",
      "104/104 [==============================] - 7s 71ms/step - loss: 14.4347 - mae: 14.9263 - val_loss: 13.7546 - val_mae: 14.2429\n",
      "Epoch 15/100\n",
      "104/104 [==============================] - 7s 71ms/step - loss: 14.9685 - mae: 15.4601 - val_loss: 16.2024 - val_mae: 16.6976\n",
      "Epoch 16/100\n",
      "104/104 [==============================] - 7s 70ms/step - loss: 14.7125 - mae: 15.2038 - val_loss: 13.9026 - val_mae: 14.3857\n",
      "Epoch 17/100\n",
      "104/104 [==============================] - 7s 70ms/step - loss: 14.6013 - mae: 15.0932 - val_loss: 14.6247 - val_mae: 15.1151\n",
      "Epoch 18/100\n",
      "104/104 [==============================] - 7s 70ms/step - loss: 14.5547 - mae: 15.0462 - val_loss: 14.2371 - val_mae: 14.7270\n",
      "Epoch 19/100\n",
      "104/104 [==============================] - 7s 70ms/step - loss: 14.2899 - mae: 14.7811 - val_loss: 13.6884 - val_mae: 14.1757\n",
      "Epoch 20/100\n",
      "104/104 [==============================] - 7s 69ms/step - loss: 14.4681 - mae: 14.9592 - val_loss: 14.7732 - val_mae: 15.2672\n",
      "Epoch 21/100\n",
      "104/104 [==============================] - 8s 76ms/step - loss: 14.2529 - mae: 14.7436 - val_loss: 14.1962 - val_mae: 14.6886\n",
      "Epoch 22/100\n",
      "104/104 [==============================] - 9s 80ms/step - loss: 14.7700 - mae: 15.2613 - val_loss: 14.2362 - val_mae: 14.7294\n",
      "Epoch 23/100\n",
      "104/104 [==============================] - 9s 82ms/step - loss: 14.5873 - mae: 15.0786 - val_loss: 14.7490 - val_mae: 15.2399\n",
      "Epoch 24/100\n",
      "104/104 [==============================] - 9s 87ms/step - loss: 14.8470 - mae: 15.3388 - val_loss: 13.7050 - val_mae: 14.1934\n",
      "Epoch 25/100\n",
      "104/104 [==============================] - 11s 104ms/step - loss: 15.5809 - mae: 16.0731 - val_loss: 14.3063 - val_mae: 14.7955\n",
      "Epoch 26/100\n",
      "104/104 [==============================] - 10s 99ms/step - loss: 14.6720 - mae: 15.1637 - val_loss: 14.0389 - val_mae: 14.5306\n",
      "Epoch 27/100\n",
      "104/104 [==============================] - 9s 81ms/step - loss: 14.8172 - mae: 15.3086 - val_loss: 14.7745 - val_mae: 15.2666\n",
      "Epoch 28/100\n",
      "104/104 [==============================] - 8s 76ms/step - loss: 14.3690 - mae: 14.8603 - val_loss: 13.9238 - val_mae: 14.4094\n",
      "Epoch 29/100\n",
      "104/104 [==============================] - 8s 74ms/step - loss: 14.3149 - mae: 14.8064 - val_loss: 14.0009 - val_mae: 14.4930\n",
      "Epoch 30/100\n",
      "104/104 [==============================] - 9s 81ms/step - loss: 14.8078 - mae: 15.2996 - val_loss: 16.3251 - val_mae: 16.8203\n",
      "Epoch 31/100\n",
      "104/104 [==============================] - 8s 73ms/step - loss: 14.5672 - mae: 15.0585 - val_loss: 14.0974 - val_mae: 14.5848\n",
      "Epoch 32/100\n",
      "104/104 [==============================] - 9s 83ms/step - loss: 14.5551 - mae: 15.0458 - val_loss: 16.1557 - val_mae: 16.6475\n",
      "Epoch 33/100\n",
      "104/104 [==============================] - 9s 81ms/step - loss: 15.0793 - mae: 15.5714 - val_loss: 13.7089 - val_mae: 14.1998\n",
      "Epoch 34/100\n",
      "104/104 [==============================] - 9s 82ms/step - loss: 14.1781 - mae: 14.6683 - val_loss: 13.6944 - val_mae: 14.1822\n",
      "Epoch 35/100\n",
      "104/104 [==============================] - 8s 78ms/step - loss: 14.6838 - mae: 15.1751 - val_loss: 14.4094 - val_mae: 14.9037\n",
      "Epoch 36/100\n",
      "104/104 [==============================] - 8s 79ms/step - loss: 14.4303 - mae: 14.9219 - val_loss: 13.9934 - val_mae: 14.4854\n",
      "Epoch 37/100\n",
      "104/104 [==============================] - 9s 85ms/step - loss: 14.5542 - mae: 15.0448 - val_loss: 13.7636 - val_mae: 14.2519\n",
      "Epoch 38/100\n",
      "104/104 [==============================] - 8s 79ms/step - loss: 14.3779 - mae: 14.8678 - val_loss: 13.7104 - val_mae: 14.2007\n",
      "Epoch 39/100\n",
      "104/104 [==============================] - 8s 80ms/step - loss: 14.5183 - mae: 15.0090 - val_loss: 14.8623 - val_mae: 15.3525\n",
      "Epoch 40/100\n",
      "104/104 [==============================] - 10s 98ms/step - loss: 14.6503 - mae: 15.1417 - val_loss: 13.8389 - val_mae: 14.3302\n",
      "Epoch 41/100\n",
      "104/104 [==============================] - 9s 85ms/step - loss: 14.6274 - mae: 15.1190 - val_loss: 17.5983 - val_mae: 18.0948\n",
      "Epoch 42/100\n",
      "104/104 [==============================] - 9s 83ms/step - loss: 14.7501 - mae: 15.2414 - val_loss: 13.6869 - val_mae: 14.1782\n",
      "Epoch 43/100\n",
      "104/104 [==============================] - 13s 125ms/step - loss: 14.5213 - mae: 15.0116 - val_loss: 13.9676 - val_mae: 14.4611\n",
      "Epoch 44/100\n",
      "104/104 [==============================] - 9s 83ms/step - loss: 14.4094 - mae: 14.8999 - val_loss: 13.7477 - val_mae: 14.2375\n",
      "Epoch 45/100\n",
      "104/104 [==============================] - 9s 83ms/step - loss: 14.6492 - mae: 15.1401 - val_loss: 15.0653 - val_mae: 15.5595\n",
      "Epoch 46/100\n",
      "104/104 [==============================] - 12s 119ms/step - loss: 14.4684 - mae: 14.9593 - val_loss: 17.9109 - val_mae: 18.4073\n",
      "Epoch 47/100\n",
      "104/104 [==============================] - 9s 81ms/step - loss: 15.1415 - mae: 15.6336 - val_loss: 15.2354 - val_mae: 15.7233\n",
      "Epoch 48/100\n",
      "104/104 [==============================] - 10s 91ms/step - loss: 14.5367 - mae: 15.0279 - val_loss: 13.7055 - val_mae: 14.1941\n",
      "Epoch 49/100\n",
      "104/104 [==============================] - 12s 112ms/step - loss: 15.0083 - mae: 15.5005 - val_loss: 13.8455 - val_mae: 14.3367\n",
      "Epoch 50/100\n",
      "104/104 [==============================] - 10s 98ms/step - loss: 14.3476 - mae: 14.8390 - val_loss: 14.0507 - val_mae: 14.5419\n",
      "Epoch 51/100\n",
      "104/104 [==============================] - 7s 70ms/step - loss: 14.9565 - mae: 15.4481 - val_loss: 14.0183 - val_mae: 14.5089\n",
      "Epoch 52/100\n",
      "104/104 [==============================] - 8s 71ms/step - loss: 14.3508 - mae: 14.8422 - val_loss: 13.8390 - val_mae: 14.3308\n",
      "Epoch 53/100\n",
      "104/104 [==============================] - 7s 69ms/step - loss: 14.7696 - mae: 15.2610 - val_loss: 14.0559 - val_mae: 14.5468\n",
      "Epoch 54/100\n",
      "104/104 [==============================] - 7s 70ms/step - loss: 14.7654 - mae: 15.2560 - val_loss: 13.7610 - val_mae: 14.2487\n",
      "Epoch 55/100\n",
      "104/104 [==============================] - 7s 70ms/step - loss: 14.5065 - mae: 14.9981 - val_loss: 18.8372 - val_mae: 19.3288\n",
      "Epoch 56/100\n",
      "104/104 [==============================] - 7s 71ms/step - loss: 15.0546 - mae: 15.5452 - val_loss: 14.2711 - val_mae: 14.7579\n",
      "Epoch 57/100\n",
      "104/104 [==============================] - 8s 74ms/step - loss: 14.6414 - mae: 15.1324 - val_loss: 14.5627 - val_mae: 15.0541\n",
      "Epoch 58/100\n",
      "104/104 [==============================] - 7s 70ms/step - loss: 14.7052 - mae: 15.1962 - val_loss: 14.6993 - val_mae: 15.1944\n",
      "Epoch 59/100\n",
      "104/104 [==============================] - 8s 71ms/step - loss: 15.2882 - mae: 15.7807 - val_loss: 16.1914 - val_mae: 16.6867\n"
     ]
    },
    {
     "name": "stdout",
     "output_type": "stream",
     "text": [
      "Epoch 60/100\n",
      "104/104 [==============================] - 7s 70ms/step - loss: 14.4250 - mae: 14.9156 - val_loss: 15.4649 - val_mae: 15.9574\n",
      "Epoch 61/100\n",
      "104/104 [==============================] - 7s 69ms/step - loss: 14.5763 - mae: 15.0679 - val_loss: 13.8300 - val_mae: 14.3225\n",
      "Epoch 62/100\n",
      "104/104 [==============================] - 7s 69ms/step - loss: 14.8266 - mae: 15.3185 - val_loss: 15.3891 - val_mae: 15.8831\n",
      "Epoch 63/100\n",
      "104/104 [==============================] - 8s 75ms/step - loss: 14.5294 - mae: 15.0208 - val_loss: 14.1864 - val_mae: 14.6792\n",
      "Epoch 64/100\n",
      "104/104 [==============================] - 7s 70ms/step - loss: 14.4510 - mae: 14.9422 - val_loss: 13.7032 - val_mae: 14.1925\n",
      "Epoch 65/100\n",
      "104/104 [==============================] - 7s 70ms/step - loss: 14.3570 - mae: 14.8477 - val_loss: 14.8284 - val_mae: 15.3222\n",
      "Epoch 66/100\n",
      "104/104 [==============================] - 7s 69ms/step - loss: 14.4773 - mae: 14.9685 - val_loss: 16.4197 - val_mae: 16.9147\n",
      "Epoch 67/100\n",
      "104/104 [==============================] - 7s 69ms/step - loss: 14.6385 - mae: 15.1293 - val_loss: 15.0711 - val_mae: 15.5623\n",
      "Epoch 68/100\n",
      "104/104 [==============================] - 8s 72ms/step - loss: 15.0931 - mae: 15.5845 - val_loss: 19.1375 - val_mae: 19.6331\n",
      "Epoch 69/100\n",
      "104/104 [==============================] - 12s 110ms/step - loss: 15.4931 - mae: 15.9856 - val_loss: 13.7790 - val_mae: 14.2701\n",
      "Epoch 70/100\n",
      "104/104 [==============================] - 7s 69ms/step - loss: 14.3894 - mae: 14.8804 - val_loss: 13.8134 - val_mae: 14.3065\n",
      "Epoch 71/100\n",
      "104/104 [==============================] - 7s 69ms/step - loss: 14.4658 - mae: 14.9574 - val_loss: 13.7518 - val_mae: 14.2380\n",
      "Epoch 72/100\n",
      "104/104 [==============================] - 8s 80ms/step - loss: 14.4010 - mae: 14.8925 - val_loss: 14.7773 - val_mae: 15.2712\n",
      "Epoch 73/100\n",
      "104/104 [==============================] - 8s 76ms/step - loss: 14.5761 - mae: 15.0674 - val_loss: 14.4555 - val_mae: 14.9478\n",
      "Epoch 74/100\n",
      "104/104 [==============================] - 8s 74ms/step - loss: 14.4631 - mae: 14.9552 - val_loss: 13.9592 - val_mae: 14.4527\n",
      "Epoch 75/100\n",
      "104/104 [==============================] - 8s 74ms/step - loss: 14.4984 - mae: 14.9901 - val_loss: 16.0008 - val_mae: 16.4948\n",
      "Epoch 76/100\n",
      "104/104 [==============================] - 8s 77ms/step - loss: 15.2206 - mae: 15.7127 - val_loss: 13.9013 - val_mae: 14.3846\n",
      "Epoch 77/100\n",
      "104/104 [==============================] - 8s 73ms/step - loss: 15.1241 - mae: 15.6156 - val_loss: 16.4952 - val_mae: 16.9899\n",
      "Epoch 78/100\n",
      "104/104 [==============================] - 8s 75ms/step - loss: 14.5563 - mae: 15.0477 - val_loss: 14.9427 - val_mae: 15.4364\n",
      "Epoch 79/100\n",
      "104/104 [==============================] - 8s 73ms/step - loss: 14.4733 - mae: 14.9650 - val_loss: 13.9712 - val_mae: 14.4646\n",
      "Epoch 80/100\n",
      "104/104 [==============================] - 8s 77ms/step - loss: 15.1446 - mae: 15.6357 - val_loss: 15.9297 - val_mae: 16.4217\n",
      "Epoch 81/100\n",
      "104/104 [==============================] - 8s 77ms/step - loss: 14.9678 - mae: 15.4598 - val_loss: 13.7252 - val_mae: 14.2168\n",
      "Epoch 82/100\n",
      "104/104 [==============================] - 8s 77ms/step - loss: 14.8118 - mae: 15.3035 - val_loss: 15.2391 - val_mae: 15.7273\n",
      "Epoch 83/100\n",
      "104/104 [==============================] - 8s 75ms/step - loss: 14.2853 - mae: 14.7755 - val_loss: 14.0266 - val_mae: 14.5164\n",
      "Epoch 84/100\n",
      "104/104 [==============================] - 8s 74ms/step - loss: 14.3320 - mae: 14.8234 - val_loss: 14.8402 - val_mae: 15.3315\n",
      "Epoch 85/100\n",
      "104/104 [==============================] - 8s 79ms/step - loss: 14.6241 - mae: 15.1146 - val_loss: 13.9393 - val_mae: 14.4272\n",
      "Epoch 86/100\n",
      "104/104 [==============================] - 8s 78ms/step - loss: 14.9837 - mae: 15.4747 - val_loss: 19.2967 - val_mae: 19.7926\n",
      "Epoch 87/100\n",
      "104/104 [==============================] - 8s 79ms/step - loss: 14.6248 - mae: 15.1159 - val_loss: 16.5856 - val_mae: 17.0776\n",
      "Epoch 88/100\n",
      "104/104 [==============================] - 8s 79ms/step - loss: 14.3470 - mae: 14.8380 - val_loss: 14.0999 - val_mae: 14.5917\n",
      "Epoch 89/100\n",
      "104/104 [==============================] - 8s 78ms/step - loss: 14.4960 - mae: 14.9877 - val_loss: 14.1514 - val_mae: 14.6417\n",
      "Epoch 90/100\n",
      "104/104 [==============================] - 8s 79ms/step - loss: 14.9784 - mae: 15.4694 - val_loss: 14.1218 - val_mae: 14.6147\n",
      "Epoch 91/100\n",
      "104/104 [==============================] - 8s 80ms/step - loss: 14.5975 - mae: 15.0882 - val_loss: 15.1777 - val_mae: 15.6724\n",
      "Epoch 92/100\n",
      "104/104 [==============================] - 8s 78ms/step - loss: 14.5027 - mae: 14.9942 - val_loss: 14.2011 - val_mae: 14.6933\n",
      "Epoch 93/100\n",
      "104/104 [==============================] - 8s 78ms/step - loss: 14.4746 - mae: 14.9667 - val_loss: 13.7463 - val_mae: 14.2364\n",
      "Epoch 94/100\n",
      "104/104 [==============================] - 8s 78ms/step - loss: 14.8871 - mae: 15.3777 - val_loss: 13.7304 - val_mae: 14.2224\n",
      "Epoch 95/100\n",
      "104/104 [==============================] - 8s 80ms/step - loss: 14.5420 - mae: 15.0327 - val_loss: 13.8472 - val_mae: 14.3381\n",
      "Epoch 96/100\n",
      "104/104 [==============================] - 9s 82ms/step - loss: 14.7453 - mae: 15.2372 - val_loss: 15.3622 - val_mae: 15.8557\n",
      "Epoch 97/100\n",
      "104/104 [==============================] - 8s 79ms/step - loss: 14.4205 - mae: 14.9117 - val_loss: 13.6873 - val_mae: 14.1766\n",
      "Epoch 98/100\n",
      "104/104 [==============================] - 8s 78ms/step - loss: 14.3945 - mae: 14.8847 - val_loss: 14.0801 - val_mae: 14.5705\n",
      "Epoch 99/100\n",
      "104/104 [==============================] - 9s 81ms/step - loss: 15.3410 - mae: 15.8335 - val_loss: 13.7962 - val_mae: 14.2890\n",
      "Epoch 100/100\n",
      "104/104 [==============================] - 8s 79ms/step - loss: 14.8442 - mae: 15.3355 - val_loss: 13.7941 - val_mae: 14.2835\n"
     ]
    }
   ],
   "source": [
    "# Setting Optimizer\n",
    "\n",
    "optimizer = tf.keras.optimizers.SGD(learning_rate=1.0000e-04, momentum=0.9)\n",
    "\n",
    "# Compiling the model\n",
    "model.compile(loss=tf.keras.losses.Huber(),\n",
    "              optimizer=optimizer,\n",
    "              metrics=[\"mae\"])\n",
    "\n",
    "# Fit the model on the training set and validate on the validation set\n",
    "history = model.fit(train_set,epochs=100, validation_data=valid_set)"
   ]
  },
  {
   "cell_type": "code",
   "execution_count": null,
   "id": "983351f9",
   "metadata": {},
   "outputs": [],
   "source": []
  }
 ],
 "metadata": {
  "kernelspec": {
   "display_name": "Python 3 (ipykernel)",
   "language": "python",
   "name": "python3"
  },
  "language_info": {
   "codemirror_mode": {
    "name": "ipython",
    "version": 3
   },
   "file_extension": ".py",
   "mimetype": "text/x-python",
   "name": "python",
   "nbconvert_exporter": "python",
   "pygments_lexer": "ipython3",
   "version": "3.11.2"
  }
 },
 "nbformat": 4,
 "nbformat_minor": 5
}
